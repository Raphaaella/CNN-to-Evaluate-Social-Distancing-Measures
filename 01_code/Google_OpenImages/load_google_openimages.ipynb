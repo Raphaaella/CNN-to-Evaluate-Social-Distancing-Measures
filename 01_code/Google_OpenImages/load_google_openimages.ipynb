{
 "cells": [
  {
   "cell_type": "code",
   "execution_count": 1,
   "metadata": {},
   "outputs": [],
   "source": [
    "# load libraries\n",
    "import os\n",
    "import pandas as pd\n",
    "import matplotlib.pyplot as plt\n",
    "from PIL import Image, ImageDraw"
   ]
  },
  {
   "cell_type": "code",
   "execution_count": 2,
   "metadata": {},
   "outputs": [],
   "source": [
    "# load csv file with class labels\n",
    "class_descriptions = pd.read_csv('../../02_data/Google_OpenImages/oidv7-class-descriptions-boxable.csv', header=None, names=['LabelName', 'ClassName'])\n",
    "\n",
    "# get the label for persons\n",
    "person_label = class_descriptions[class_descriptions['ClassName'] == 'Person']['LabelName'].values[0]\n",
    "\n",
    "# load csv file with box annotations\n",
    "annotations = pd.read_csv('../../02_data/Google_OpenImages/oidv6-train-annotations-bbox.csv') # could not push this file because too large\n",
    "\n",
    "# filter to get only annotations for persons\n",
    "person_annotations = annotations[annotations['LabelName'] == person_label]\n",
    "\n",
    "# get only unique image IDs\n",
    "person_image_ids = person_annotations['ImageID'].unique()\n",
    "\n",
    "# reduce the number of image IDs to load 100 images\n",
    "person_image_ids_small = person_image_ids[0:100]"
   ]
  },
  {
   "cell_type": "code",
   "execution_count": null,
   "metadata": {},
   "outputs": [],
   "source": [
    "# create txt file needed for loading the images\n",
    "with open('person_image_ids_small.txt', 'w') as file:\n",
    "    for image_id in person_image_ids_small:\n",
    "        file.write(f'train/{image_id}\\n')"
   ]
  },
  {
   "cell_type": "markdown",
   "metadata": {},
   "source": [
    "With the txt file run 'downloader.py' via terminal with this command: \\\n",
    "python downloader.py $IMAGE_LIST_FILE --download_folder=$DOWNLOAD_FOLDER --num_processes=5 \\\n",
    "The images will be saved in the specified download folder."
   ]
  }
 ],
 "metadata": {
  "kernelspec": {
   "display_name": "base",
   "language": "python",
   "name": "python3"
  },
  "language_info": {
   "codemirror_mode": {
    "name": "ipython",
    "version": 3
   },
   "file_extension": ".py",
   "mimetype": "text/x-python",
   "name": "python",
   "nbconvert_exporter": "python",
   "pygments_lexer": "ipython3",
   "version": "3.11.5"
  },
  "orig_nbformat": 4
 },
 "nbformat": 4,
 "nbformat_minor": 2
}
