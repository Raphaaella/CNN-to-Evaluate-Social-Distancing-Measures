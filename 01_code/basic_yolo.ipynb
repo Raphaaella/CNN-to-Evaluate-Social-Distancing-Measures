{
 "cells": [
  {
   "cell_type": "markdown",
   "id": "1352fe19",
   "metadata": {},
   "source": [
    "# Basic YOLO Model with PyTorch"
   ]
  },
  {
   "cell_type": "code",
   "execution_count": 1,
   "id": "2d202a88",
   "metadata": {},
   "outputs": [
    {
     "ename": "ModuleNotFoundError",
     "evalue": "No module named 'torchvision'",
     "output_type": "error",
     "traceback": [
      "\u001b[1;31m---------------------------------------------------------------------------\u001b[0m",
      "\u001b[1;31mModuleNotFoundError\u001b[0m                       Traceback (most recent call last)",
      "Cell \u001b[1;32mIn[1], line 5\u001b[0m\n\u001b[0;32m      3\u001b[0m \u001b[38;5;28;01mimport\u001b[39;00m \u001b[38;5;21;01mtorch\u001b[39;00m\u001b[38;5;21;01m.\u001b[39;00m\u001b[38;5;21;01moptim\u001b[39;00m \u001b[38;5;28;01mas\u001b[39;00m \u001b[38;5;21;01moptim\u001b[39;00m\n\u001b[0;32m      4\u001b[0m \u001b[38;5;28;01mfrom\u001b[39;00m \u001b[38;5;21;01mtorch\u001b[39;00m\u001b[38;5;21;01m.\u001b[39;00m\u001b[38;5;21;01mutils\u001b[39;00m\u001b[38;5;21;01m.\u001b[39;00m\u001b[38;5;21;01mdata\u001b[39;00m \u001b[38;5;28;01mimport\u001b[39;00m DataLoader, Dataset\n\u001b[1;32m----> 5\u001b[0m \u001b[38;5;28;01mfrom\u001b[39;00m \u001b[38;5;21;01mtorchvision\u001b[39;00m \u001b[38;5;28;01mimport\u001b[39;00m transforms\n\u001b[0;32m      6\u001b[0m \u001b[38;5;28;01mimport\u001b[39;00m \u001b[38;5;21;01mnumpy\u001b[39;00m \u001b[38;5;28;01mas\u001b[39;00m \u001b[38;5;21;01mnp\u001b[39;00m\n",
      "\u001b[1;31mModuleNotFoundError\u001b[0m: No module named 'torchvision'"
     ]
    }
   ],
   "source": [
    "import torch\n",
    "import torch.nn as nn\n",
    "import torch.optim as optim\n",
    "from torch.utils.data import DataLoader, Dataset\n",
    "from torchvision import transforms\n",
    "import numpy as np"
   ]
  },
  {
   "cell_type": "markdown",
   "id": "a0fab159",
   "metadata": {},
   "source": [
    "## Define BasicYOLO Model"
   ]
  },
  {
   "cell_type": "code",
   "execution_count": null,
   "id": "8c982de9",
   "metadata": {},
   "outputs": [],
   "source": [
    "class BasicYOLO(nn.Module):\n",
    "    def __init__(self, S, B, C):\n",
    "        super(BasicYOLO, self).__init__()\n",
    "        self.S = S  # Grid size\n",
    "        self.B = B  # Number of bounding boxes per grid cell\n",
    "        self.C = C  # Number of classes\n",
    "\n",
    "        self.conv_layers = nn.Sequential(\n",
    "            nn.Conv2d(3, 64, kernel_size=7, stride=2, padding=3),\n",
    "            nn.BatchNorm2d(64),\n",
    "            nn.LeakyReLU(0.1),\n",
    "            nn.MaxPool2d(kernel_size=2, stride=2),\n",
    "            # Add more convolutional layers as needed...\n",
    "        )\n",
    "\n",
    "        self.fc_layers = nn.Sequential(\n",
    "            nn.Linear(64 * (self.S // 32) * (self.S // 32), 4096),\n",
    "            nn.LeakyReLU(0.1),\n",
    "            nn.Linear(4096, self.S * self.S * (self.C + self.B * 5))\n",
    "        )\n",
    "\n",
    "    def forward(self, x):\n",
    "        x = self.conv_layers(x)\n",
    "        x = x.view(x.size(0), -1)\n",
    "        x = self.fc_layers(x)\n",
    "        x = x.view(-1, self.S, self.S, self.C + self.B * 5)\n",
    "        return x"
   ]
  },
  {
   "cell_type": "markdown",
   "id": "4087d46d",
   "metadata": {},
   "source": [
    "## Define YOLO Loss Function"
   ]
  },
  {
   "cell_type": "code",
   "execution_count": null,
   "id": "62fb3344",
   "metadata": {},
   "outputs": [],
   "source": [
    "class YOLOLoss(nn.Module):\n",
    "    def __init__(self, S, B, C, lambda_coord=5, lambda_noobj=0.5):\n",
    "        super(YOLOLoss, self).__init__()\n",
    "        self.S = S\n",
    "        self.B = B\n",
    "        self.C = C\n",
    "        self.lambda_coord = lambda_coord\n",
    "        self.lambda_noobj = lambda_noobj\n",
    "\n",
    "    def compute_iou(self, box1, box2):\n",
    "        inter = torch.min(box1[..., 0] + box1[..., 2], box2[..., 0] + box2[..., 2]) - torch.max(box1[..., 0], box2[..., 0])\n",
    "        inter *= torch.min(box1[..., 1] + box1[..., 3], box2[..., 1] + box2[..., 3]) - torch.max(box1[..., 1], box2[..., 1])\n",
    "        union = box1[..., 2] * box1[..., 3] + box2[..., 2] * box2[..., 3] - inter\n",
    "        return inter / union\n",
    "\n",
    "    def forward(self, predictions, targets):\n",
    "        loss = 0\n",
    "        # Implement YOLO loss calculation here\n",
    "        return loss"
   ]
  },
  {
   "cell_type": "markdown",
   "id": "10a513a3",
   "metadata": {},
   "source": [
    "## Dummy Dataset for Illustration"
   ]
  },
  {
   "cell_type": "code",
   "execution_count": null,
   "id": "95a96f7a",
   "metadata": {},
   "outputs": [],
   "source": [
    "class DummyDataset(Dataset):\n",
    "    def __init__(self, num_samples):\n",
    "        self.num_samples = num_samples\n",
    "\n",
    "    def __len__(self):\n",
    "        return self.num_samples\n",
    "\n",
    "    def __getitem__(self, idx):\n",
    "        image = torch.randn(3, 448, 448)  # Dummy image\n",
    "        target = torch.zeros(7, 7, 30)  # Dummy target\n",
    "        return image, target"
   ]
  },
  {
   "cell_type": "markdown",
   "id": "7f97f394",
   "metadata": {},
   "source": [
    "## Define Dataset and Dataloader"
   ]
  },
  {
   "cell_type": "code",
   "execution_count": null,
   "id": "b34a197a",
   "metadata": {},
   "outputs": [],
   "source": [
    "dataset = DummyDataset(num_samples=100)\n",
    "dataloader = DataLoader(dataset, batch_size=16, shuffle=True)"
   ]
  },
  {
   "cell_type": "markdown",
   "id": "3e792fbd",
   "metadata": {},
   "source": [
    "## Model, Loss Function, Optimizer"
   ]
  },
  {
   "cell_type": "code",
   "execution_count": null,
   "id": "58a4c242",
   "metadata": {},
   "outputs": [],
   "source": [
    "model = BasicYOLO(S=7, B=2, C=20)\n",
    "loss_fn = YOLOLoss(S=7, B=2, C=20)\n",
    "optimizer = optim.Adam(model.parameters(), lr=0.001)"
   ]
  },
  {
   "cell_type": "markdown",
   "id": "c33908ae",
   "metadata": {},
   "source": [
    "## Training Loop"
   ]
  },
  {
   "cell_type": "code",
   "execution_count": null,
   "id": "14590193",
   "metadata": {},
   "outputs": [],
   "source": [
    "num_epochs = 10\n",
    "\n",
    "for epoch in range(num_epochs):\n",
    "    for images, targets in dataloader:\n",
    "        predictions = model(images)\n",
    "        loss = loss_fn(predictions, targets)\n",
    "\n",
    "        optimizer.zero_grad()\n",
    "        loss.backward()\n",
    "        optimizer.step()\n",
    "\n",
    "    print(f\"Epoch {epoch+1}/{num_epochs}, Loss: {loss.item()}\")"
   ]
  }
 ],
 "metadata": {
  "kernelspec": {
   "display_name": "Python 3",
   "language": "python",
   "name": "python3"
  },
  "language_info": {
   "codemirror_mode": {
    "name": "ipython",
    "version": 3
   },
   "file_extension": ".py",
   "mimetype": "text/x-python",
   "name": "python",
   "nbconvert_exporter": "python",
   "pygments_lexer": "ipython3",
   "version": "3.11.9"
  }
 },
 "nbformat": 4,
 "nbformat_minor": 5
}
